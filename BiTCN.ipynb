{
 "cells": [
  {
   "cell_type": "code",
   "execution_count": null,
   "id": "026f53a5-9c0d-47b6-9a57-b7c4843872b8",
   "metadata": {},
   "outputs": [],
   "source": []
  }
 ],
 "metadata": {
  "kernelspec": {
   "display_name": "",
   "name": ""
  },
  "language_info": {
   "name": ""
  }
 },
 "nbformat": 4,
 "nbformat_minor": 5
}
