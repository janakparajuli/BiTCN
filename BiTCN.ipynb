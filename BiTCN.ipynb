{
 "cells": [
  {
   "cell_type": "code",
   "execution_count": null,
   "id": "026f53a5-9c0d-47b6-9a57-b7c4843872b8",
   "metadata": {},
   "outputs": [],
   "source": []
  },
  {
   "cell_type": "code",
   "execution_count": 1,
   "id": "fb025536-4831-497b-a276-25432ddf3633",
   "metadata": {},
   "outputs": [],
   "source": [
    "import pandas as pd\n",
    "import numpy as np\n",
    "import matplotlib.pyplot as plt\n",
    "\n",
    "from neuralforecast.core import NeuralForecast\n",
    "from neuralforecast.models import NHITS, PatchTST, BiTCN"
   ]
  },
  {
   "cell_type": "code",
   "execution_count": 2,
   "id": "8f201571-4100-473f-886a-ef9ebe612bec",
   "metadata": {},
   "outputs": [],
   "source": [
    "df = pd.read_csv('https://raw.githubusercontent.com/marcopeix/time-series-analysis/master/data/medium_views_published_holidays.csv')\n",
    "df['ds'] = pd.to_datetime(df['ds'])"
   ]
  },
  {
   "cell_type": "code",
   "execution_count": 4,
   "id": "ebbdf4b8-be61-45de-ab78-f9965e7cf4a1",
   "metadata": {},
   "outputs": [
    {
     "data": {
      "text/plain": [
       "unique_id  ds          y     published  is_holiday\n",
       "0          2020-01-01  1131  0.0        1             1\n",
       "           2022-07-07  2002  0.0        0             1\n",
       "           2022-07-15  707   0.0        0             1\n",
       "           2022-07-14  795   0.0        0             1\n",
       "           2022-07-13  954   0.0        0             1\n",
       "                                                     ..\n",
       "           2021-04-04  998   0.0        0             1\n",
       "           2021-04-03  958   0.0        0             1\n",
       "           2021-04-02  1105  0.0        0             1\n",
       "           2021-04-01  1261  0.0        0             1\n",
       "           2023-10-12  2262  0.0        0             1\n",
       "Name: count, Length: 1381, dtype: int64"
      ]
     },
     "execution_count": 4,
     "metadata": {},
     "output_type": "execute_result"
    }
   ],
   "source": [
    "df['].value_counts()"
   ]
  },
  {
   "cell_type": "code",
   "execution_count": null,
   "id": "48b88900-a326-46d9-aae9-c02cdd2a6db5",
   "metadata": {},
   "outputs": [],
   "source": []
  },
  {
   "cell_type": "code",
   "execution_count": null,
   "id": "f4386640-9425-4750-9cb8-e1013599aa40",
   "metadata": {},
   "outputs": [],
   "source": []
  },
  {
   "cell_type": "code",
   "execution_count": null,
   "id": "fbad3325-2621-4286-b2cd-93c4c228801c",
   "metadata": {},
   "outputs": [],
   "source": []
  },
  {
   "cell_type": "code",
   "execution_count": null,
   "id": "293b4b41-b46e-47de-a1be-05bec82ab237",
   "metadata": {},
   "outputs": [],
   "source": []
  },
  {
   "cell_type": "code",
   "execution_count": null,
   "id": "abd02e7e-61ad-45d9-bee3-4b97df517cfd",
   "metadata": {},
   "outputs": [],
   "source": []
  },
  {
   "cell_type": "code",
   "execution_count": null,
   "id": "06073926-9455-4f4e-b5d0-643033425384",
   "metadata": {},
   "outputs": [],
   "source": []
  },
  {
   "cell_type": "code",
   "execution_count": null,
   "id": "f2ca7439-587b-4fd9-bc18-d62cac454b72",
   "metadata": {},
   "outputs": [],
   "source": []
  },
  {
   "cell_type": "code",
   "execution_count": null,
   "id": "cad0b3e3-48ab-4c81-9de4-b1fb9974b376",
   "metadata": {},
   "outputs": [],
   "source": []
  },
  {
   "cell_type": "code",
   "execution_count": null,
   "id": "4d83f0d8-59d0-4b3a-b7c6-e04d235ff2ad",
   "metadata": {},
   "outputs": [],
   "source": []
  },
  {
   "cell_type": "code",
   "execution_count": null,
   "id": "20eebfb2-1ac2-4334-aa51-6ed66f56b128",
   "metadata": {},
   "outputs": [],
   "source": []
  },
  {
   "cell_type": "code",
   "execution_count": null,
   "id": "02423414-216d-4f20-9f5c-3144c27a5d0f",
   "metadata": {},
   "outputs": [],
   "source": []
  },
  {
   "cell_type": "code",
   "execution_count": null,
   "id": "8981e892-4c30-475d-a5d0-426ac28e9461",
   "metadata": {},
   "outputs": [],
   "source": []
  },
  {
   "cell_type": "code",
   "execution_count": null,
   "id": "bd99ac09-ba7d-4447-bb8f-d9cedd8b0e31",
   "metadata": {},
   "outputs": [],
   "source": []
  },
  {
   "cell_type": "code",
   "execution_count": null,
   "id": "bc36369d-09c1-43b1-85d6-e445a1d99d9d",
   "metadata": {},
   "outputs": [],
   "source": []
  }
 ],
 "metadata": {
  "kernelspec": {
   "display_name": "Python 3 (ipykernel)",
   "language": "python",
   "name": "python3"
  },
  "language_info": {
   "codemirror_mode": {
    "name": "ipython",
    "version": 3
   },
   "file_extension": ".py",
   "mimetype": "text/x-python",
   "name": "python",
   "nbconvert_exporter": "python",
   "pygments_lexer": "ipython3",
   "version": "3.8.19"
  }
 },
 "nbformat": 4,
 "nbformat_minor": 5
}
